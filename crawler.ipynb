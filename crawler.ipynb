{
 "cells": [
  {
   "cell_type": "code",
   "execution_count": 1,
   "metadata": {
    "collapsed": false
   },
   "outputs": [],
   "source": [
    "from bs4 import BeautifulSoup\n",
    "import urllib3\n",
    "from urllib.parse import urljoin\n",
    "import re\n",
    "import nltk"
   ]
  },
  {
   "cell_type": "markdown",
   "metadata": {},
   "source": [
    "# Crawler das urls"
   ]
  },
  {
   "cell_type": "code",
   "execution_count": 2,
   "metadata": {
    "collapsed": true
   },
   "outputs": [],
   "source": [
    "def crawl(paginas, profundidade):\n",
    "    urllib3.disable_warnings(urllib3.exceptions.InsecureRequestWarning)\n",
    "    for i in range(profundidade):\n",
    "        novas_paginas = set()\n",
    "        for pagina in paginas:\n",
    "            http = urllib3.PoolManager()\n",
    "            try:\n",
    "                dados_pagina = http.request('GET', pagina)\n",
    "            except:\n",
    "                print('Erro na página ' + pagina)\n",
    "                continue\n",
    "            \n",
    "            sopa = BeautifulSoup(dados_pagina.data, 'html')\n",
    "            indexador(pagina, sopa)\n",
    "            links = sopa.find_all('a')\n",
    "            for link in links:\n",
    "                if 'href' in link.attrs:\n",
    "                    url = urljoin(pagina, str(link.get('href')))\n",
    "                    if url.find(\"'\") != -1:\n",
    "                        continue\n",
    "                    url = url.split('#')[0]\n",
    "                    if url[0:4] == 'http':\n",
    "                        novas_paginas.add(url)\n",
    "                    \n",
    "            paginas = novas_paginas\n",
    "    return paginas"
   ]
  },
  {
   "cell_type": "code",
   "execution_count": 32,
   "metadata": {
    "collapsed": false
   },
   "outputs": [
    {
     "name": "stderr",
     "output_type": "stream",
     "text": [
      "/usr/local/lib/python3.6/site-packages/bs4/__init__.py:181: UserWarning: No parser was explicitly specified, so I'm using the best available HTML parser for this system (\"html5lib\"). This usually isn't a problem, but if you run this code on another system, or in a different virtual environment, it may use a different parser and behave differently.\n",
      "\n",
      "The code that caused this warning is on line 193 of the file /usr/local/Cellar/python3/3.6.4_2/Frameworks/Python.framework/Versions/3.6/lib/python3.6/runpy.py. To get rid of this warning, change code that looks like this:\n",
      "\n",
      " BeautifulSoup(YOUR_MARKUP})\n",
      "\n",
      "to this:\n",
      "\n",
      " BeautifulSoup(YOUR_MARKUP, \"html5lib\")\n",
      "\n",
      "  markup_type=markup_type))\n"
     ]
    },
    {
     "name": "stdout",
     "output_type": "stream",
     "text": [
      "Erro na página https://wikimediafoundation.org/wiki/Condições_de_Uso\n",
      "Erro na página https://be-x-old.wikipedia.org/wiki/%D0%9C%D0%BE%D0%B2%D0%B0_%D0%BF%D1%80%D0%B0%D0%B3%D1%80%D0%B0%D0%BC%D0%B0%D0%B2%D0%B0%D0%BD%D1%8C%D0%BD%D1%8F\n",
      "Erro na página https://pt.wikipedia.org/w/index.php?title=Linguagem_de_programação&oldid=50743371\n"
     ]
    }
   ],
   "source": [
    "teste = crawl(['https://pt.wikipedia.org/wiki/Linguagem_de_programa%C3%A7%C3%A3o'], 2)"
   ]
  },
  {
   "cell_type": "markdown",
   "metadata": {},
   "source": [
    "# Pré-processamento dos textos: remoção das tags html"
   ]
  },
  {
   "cell_type": "code",
   "execution_count": 3,
   "metadata": {
    "collapsed": true
   },
   "outputs": [],
   "source": [
    "# remover algumas tags\n",
    "def getTexto(sopa):\n",
    "    for tag in sopa(['script', 'style']):\n",
    "        tag.decompose()\n",
    "    \n",
    "    return ' '.join(sopa.stripped_strings)"
   ]
  },
  {
   "cell_type": "markdown",
   "metadata": {},
   "source": [
    "# Pré-processamento dos textos: separacao das palavras"
   ]
  },
  {
   "cell_type": "code",
   "execution_count": 4,
   "metadata": {
    "collapsed": false
   },
   "outputs": [],
   "source": [
    "def separaPalavras(texto):\n",
    "    splitter = re.compile('\\\\W*')\n",
    "    stop = nltk.corpus.stopwords.words('portuguese')\n",
    "    stemmer = nltk.stem.RSLPStemmer()\n",
    "    lista_palavras = []\n",
    "    lista = [p for p in splitter.split(texto) if p != '' ] \n",
    "    for p in lista:\n",
    "        if p.lower() not in stop and len(p) > 1:\n",
    "            lista_palavras.append(stemmer.stem(p).lower())\n",
    "            \n",
    "    return lista_palavras"
   ]
  },
  {
   "cell_type": "code",
   "execution_count": 19,
   "metadata": {
    "collapsed": false
   },
   "outputs": [
    {
     "name": "stderr",
     "output_type": "stream",
     "text": [
      "/home/cloves/.local/lib/python3.5/site-packages/ipykernel_launcher.py:6: FutureWarning: split() requires a non-empty pattern match.\n",
      "  \n"
     ]
    },
    {
     "data": {
      "text/plain": [
       "['lug', 'apavor']"
      ]
     },
     "execution_count": 19,
     "metadata": {},
     "output_type": "execute_result"
    }
   ],
   "source": [
    "separaPalavras('Este lugar é apavorante')"
   ]
  },
  {
   "cell_type": "markdown",
   "metadata": {},
   "source": [
    "# Conexão com BD"
   ]
  },
  {
   "cell_type": "code",
   "execution_count": 6,
   "metadata": {
    "collapsed": false
   },
   "outputs": [],
   "source": [
    "import os\n",
    "import psycopg2"
   ]
  },
  {
   "cell_type": "code",
   "execution_count": 7,
   "metadata": {
    "collapsed": false
   },
   "outputs": [],
   "source": [
    "DB = os.environ[\"NOME_DO_MEU_DB\"] \n",
    "HOST = os.environ[\"HOST_DO_MEU_DB\"] \n",
    "USER = os.environ[\"USUARIO_DO_MEU_DB\"]\n",
    "PASS = os.environ[\"SENHA_DO_MEU_DB\"]"
   ]
  },
  {
   "cell_type": "code",
   "execution_count": 15,
   "metadata": {
    "collapsed": false
   },
   "outputs": [],
   "source": [
    "def conectar():\n",
    "    conn_string = \"host='%s' dbname='%s' user='%s' password='%s'\" %(HOST, DB, USER, PASS)\n",
    "    try:\n",
    "        # get a connection, if a connect cannot be made an exception will be raised here\n",
    "        conn = psycopg2.connect(conn_string)\n",
    "        conn.set_client_encoding('UNICODE')\n",
    "        return conn\n",
    "    except:\n",
    "        print (\"Can't connected to database!\")"
   ]
  },
  {
   "cell_type": "code",
   "execution_count": 16,
   "metadata": {
    "collapsed": false
   },
   "outputs": [],
   "source": [
    "con = conectar()"
   ]
  },
  {
   "cell_type": "code",
   "execution_count": 5,
   "metadata": {
    "collapsed": true
   },
   "outputs": [],
   "source": [
    "con.close()"
   ]
  },
  {
   "cell_type": "markdown",
   "metadata": {},
   "source": [
    "# Verificação de páginas já indexadas"
   ]
  },
  {
   "cell_type": "code",
   "execution_count": 9,
   "metadata": {
    "collapsed": false
   },
   "outputs": [],
   "source": [
    "def paginaIndexada(url):\n",
    "    retorno = -1 # não exite página\n",
    "    con  = conectar()\n",
    "    cursorURL = con.cursor()\n",
    "    cursorURL.execute(\"select idurl from buscas_em_textos.urls where url = '%s'\" %url)\n",
    "    if cursorURL.rowcount > 0:\n",
    "        #print('URL já cadastrada!')\n",
    "        idurl = cursorURL.fetchone()[0]\n",
    "        cursorPalava = con.cursor()\n",
    "        cursorPalava.execute(\"select idurl from buscas_em_textos.palavra_localizacao \\\n",
    "                             where idurl = '%s'\" %idurl)\n",
    "        if cursorPalava.rowcount > 0:\n",
    "            #print('Url com palavras')\n",
    "            retorno = -2 # existe a página com palavras cadastradas\n",
    "        else:\n",
    "            #print('URL sem palavras')\n",
    "            retorno = idurl # existe a página sem palavras\n",
    "        cursorPalava.close()\n",
    "    #else:\n",
    "       # print ('URL não cadastrada!')\n",
    "        \n",
    "    cursorURL.close()\n",
    "    con.close()\n",
    "    \n",
    "    return retorno"
   ]
  },
  {
   "cell_type": "code",
   "execution_count": 7,
   "metadata": {
    "collapsed": false
   },
   "outputs": [
    {
     "name": "stdout",
     "output_type": "stream",
     "text": [
      "Connected to database!\n"
     ]
    },
    {
     "data": {
      "text/plain": [
       "-1"
      ]
     },
     "execution_count": 7,
     "metadata": {},
     "output_type": "execute_result"
    }
   ],
   "source": [
    "paginaIndexada('www.cloves.com')"
   ]
  },
  {
   "cell_type": "markdown",
   "metadata": {
    "collapsed": true
   },
   "source": [
    "# Inclusão de URLs no índice"
   ]
  },
  {
   "cell_type": "code",
   "execution_count": 19,
   "metadata": {
    "collapsed": true
   },
   "outputs": [],
   "source": [
    "def inserPagina(url):\n",
    "    con  = conectar()\n",
    "    cursor = con.cursor()\n",
    "    cursor.execute(\"select idurl from buscas_em_textos.urls\\\n",
    "                    order by idurl desc limit 1\")\n",
    "    try:\n",
    "        idpagina = cursor.fetchall()[0][0] + 1\n",
    "    except:\n",
    "        idpagina = 0\n",
    "    cursor.execute(\"insert into buscas_em_textos.urls (idurl, url) values(%d,'%s')\" %(idpagina,url))\n",
    "    con.commit()\n",
    "    cursor.close()\n",
    "    con.close()\n",
    "    return idpagina"
   ]
  },
  {
   "cell_type": "code",
   "execution_count": 68,
   "metadata": {
    "collapsed": false
   },
   "outputs": [
    {
     "name": "stdout",
     "output_type": "stream",
     "text": [
      "Connected to database!\n"
     ]
    },
    {
     "data": {
      "text/plain": [
       "3"
      ]
     },
     "execution_count": 68,
     "metadata": {},
     "output_type": "execute_result"
    }
   ],
   "source": [
    "inserPagina('www.teste4.com')"
   ]
  },
  {
   "cell_type": "markdown",
   "metadata": {},
   "source": [
    "# Verificação de palavras já indexadas "
   ]
  },
  {
   "cell_type": "code",
   "execution_count": 11,
   "metadata": {
    "collapsed": true
   },
   "outputs": [],
   "source": [
    "def palavraIndexada(palavra):\n",
    "    retorno = -1 # não existe a palavra no índice\n",
    "    con  = conectar()\n",
    "    cursor = con.cursor()\n",
    "    cursor.execute(\"select idpalavra from buscas_em_textos.palavras where palavra = '%s'\" %palavra)\n",
    "    if cursor.rowcount > 0:\n",
    "        #print('palavra já cadastrada')\n",
    "        retorno = cursor.fetchone()[0]\n",
    "    #else:\n",
    "        #print('palavra não cadastrada')\n",
    "    cursor.close()\n",
    "    con.close()\n",
    "    return retorno"
   ]
  },
  {
   "cell_type": "code",
   "execution_count": 74,
   "metadata": {
    "collapsed": false
   },
   "outputs": [
    {
     "data": {
      "text/plain": [
       "-1"
      ]
     },
     "execution_count": 74,
     "metadata": {},
     "output_type": "execute_result"
    }
   ],
   "source": [
    "palavraIndexada('cloves')"
   ]
  },
  {
   "cell_type": "markdown",
   "metadata": {},
   "source": [
    "# Inclusão de Palavras no Índice"
   ]
  },
  {
   "cell_type": "code",
   "execution_count": 20,
   "metadata": {
    "collapsed": true
   },
   "outputs": [],
   "source": [
    "def inserePalavra(palavra):\n",
    "    con  = conectar()\n",
    "    cursor = con.cursor()\n",
    "    cursor.execute(\"select idpalavra from buscas_em_textos.palavras \\\n",
    "                    order by idpalavra desc limit 1\")\n",
    "    \n",
    "    try:\n",
    "        idpalavra = cursor.fetchall()[0][0] + 1\n",
    "    except:\n",
    "        idpalavra = 0\n",
    "        \n",
    "    cursor.execute(\"insert into buscas_em_textos.palavras (idpalavra, palavra) \\\n",
    "                    values(%d, '%s')\" %(idpalavra, palavra))\n",
    "    \n",
    "    con.commit()\n",
    "    cursor.close()\n",
    "    con.close()\n",
    "    return idpalavra"
   ]
  },
  {
   "cell_type": "code",
   "execution_count": 85,
   "metadata": {
    "collapsed": false
   },
   "outputs": [
    {
     "data": {
      "text/plain": [
       "1"
      ]
     },
     "execution_count": 85,
     "metadata": {},
     "output_type": "execute_result"
    }
   ],
   "source": [
    "inserePalavra('teste2')"
   ]
  },
  {
   "cell_type": "markdown",
   "metadata": {},
   "source": [
    "# Inclusão das palavras do documento"
   ]
  },
  {
   "cell_type": "code",
   "execution_count": 21,
   "metadata": {
    "collapsed": true
   },
   "outputs": [],
   "source": [
    "def inserPalavraLocalizacao(idurl, idpalavra, localizacao):\n",
    "    con  = conectar()\n",
    "    cursor = con.cursor()\n",
    "    cursor.execute(\"select idpalavra_localizacao from buscas_em_textos.palavra_localizacao \\\n",
    "                    order by idpalavra_localizacao desc limit 1\")\n",
    "    try:\n",
    "        idpalavra_localizacao = cursor.fetchall()[0][0] + 1\n",
    "    except:\n",
    "        idpalavra_localizacao = 0\n",
    "        \n",
    "    query = \"insert into buscas_em_textos.palavra_localizacao \\\n",
    "            (idpalavra_localizacao, idurl, idpalavra, localizacao) \\\n",
    "            values(%d, %d, %d, %d)\" %(idpalavra_localizacao,idurl,idpalavra,localizacao)\n",
    "    \n",
    "    cursor.execute(query)\n",
    "    con.commit()\n",
    "    cursor.close()\n",
    "    con.close()\n",
    "    return idpalavra_localizacao"
   ]
  },
  {
   "cell_type": "code",
   "execution_count": 91,
   "metadata": {
    "collapsed": false
   },
   "outputs": [
    {
     "data": {
      "text/plain": [
       "1"
      ]
     },
     "execution_count": 91,
     "metadata": {},
     "output_type": "execute_result"
    }
   ],
   "source": [
    "inserPalavraLocalizacao(0, 1, 2)"
   ]
  },
  {
   "cell_type": "markdown",
   "metadata": {},
   "source": [
    "# Indexador Completo"
   ]
  },
  {
   "cell_type": "code",
   "execution_count": 14,
   "metadata": {
    "collapsed": true
   },
   "outputs": [],
   "source": [
    "def indexador(url, sopa):\n",
    "    indexada = paginaIndexada(url)\n",
    "    if indexada == -2:\n",
    "        print(\"URL já indexada!\")\n",
    "        return\n",
    "    elif indexada == -1:\n",
    "        idnova_pagina = inserPagina(url)\n",
    "    elif indexada > 0:\n",
    "        idnova_pagina = indexada\n",
    "    \n",
    "    print(\"Indexando \" + url)\n",
    "    \n",
    "    texto = getTexto(sopa)\n",
    "    palavras = separaPalavras(texto)\n",
    "    for i in range(len(palavras)):\n",
    "        palavra = palavras[i]\n",
    "        idpalavra = palavraIndexada(palavra)\n",
    "        if idpalavra == -1:\n",
    "            idpalavra = inserePalavra(palavra)\n",
    "        inserPalavraLocalizacao(idnova_pagina, idpalavra, i)"
   ]
  },
  {
   "cell_type": "code",
   "execution_count": null,
   "metadata": {
    "collapsed": true
   },
   "outputs": [],
   "source": []
  }
 ],
 "metadata": {
  "anaconda-cloud": {},
  "kernelspec": {
   "display_name": "Python 3",
   "language": "python",
   "name": "python3"
  },
  "language_info": {
   "codemirror_mode": {
    "name": "ipython",
    "version": 3
   },
   "file_extension": ".py",
   "mimetype": "text/x-python",
   "name": "python",
   "nbconvert_exporter": "python",
   "pygments_lexer": "ipython3",
   "version": "3.5.2"
  }
 },
 "nbformat": 4,
 "nbformat_minor": 2
}
