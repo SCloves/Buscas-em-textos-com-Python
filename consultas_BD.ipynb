{
 "cells": [
  {
   "cell_type": "code",
   "execution_count": 4,
   "metadata": {
    "collapsed": false
   },
   "outputs": [],
   "source": [
    "import os\n",
    "import psycopg2\n",
    "import nltk"
   ]
  },
  {
   "cell_type": "code",
   "execution_count": 3,
   "metadata": {
    "collapsed": true
   },
   "outputs": [],
   "source": [
    "DB = os.environ[\"NOME_DO_MEU_DB\"] \n",
    "HOST = os.environ[\"HOST_DO_MEU_DB\"] \n",
    "USER = os.environ[\"USUARIO_DO_MEU_DB\"]\n",
    "PASS = os.environ[\"SENHA_DO_MEU_DB\"]"
   ]
  },
  {
   "cell_type": "code",
   "execution_count": 5,
   "metadata": {
    "collapsed": true
   },
   "outputs": [],
   "source": [
    "def conectar():\n",
    "    conn_string = \"host='%s' dbname='%s' user='%s' password='%s'\" %(HOST, DB, USER, PASS)\n",
    "    try:\n",
    "        # get a connection, if a connect cannot be made an exception will be raised here\n",
    "        conn = psycopg2.connect(conn_string)\n",
    "        conn.set_client_encoding('UNICODE')\n",
    "        return conn\n",
    "    except:\n",
    "        print (\"Can't connected to database!\")"
   ]
  },
  {
   "cell_type": "code",
   "execution_count": 14,
   "metadata": {
    "collapsed": true
   },
   "outputs": [],
   "source": [
    "def getIdPalavra(palavra):\n",
    "    retorno = -1\n",
    "    stmmer = nltk.stem.RSLPStemmer()\n",
    "    con = conectar()\n",
    "    cursor = con.cursor()\n",
    "    query_idpalavra = \"select idpalavra from buscas_em_textos.palavras where palavra='%s'\" %stmmer.stem(palavra)\n",
    "    cursor.execute(query_idpalavra)\n",
    "    if cursor.rowcount > 0:\n",
    "        retorno = cursor.fetchone()[0]\n",
    "    cursor.close()\n",
    "    con.close()\n",
    "    return retorno"
   ]
  },
  {
   "cell_type": "code",
   "execution_count": 16,
   "metadata": {
    "collapsed": false
   },
   "outputs": [
    {
     "data": {
      "text/plain": [
       "1"
      ]
     },
     "execution_count": 16,
     "metadata": {},
     "output_type": "execute_result"
    }
   ],
   "source": [
    "getIdPalavra('programação')"
   ]
  },
  {
   "cell_type": "code",
   "execution_count": 31,
   "metadata": {
    "collapsed": true
   },
   "outputs": [],
   "source": [
    "def buscaPalavra(palavra):\n",
    "    idpalavra = getIdPalavra(palavra)\n",
    "    con  = conectar()\n",
    "    cursor = con.cursor()\n",
    "    query = \"select \\\n",
    "                distinct(urls.url) \\\n",
    "            from \\\n",
    "                buscas_em_textos.palavra_localizacao plc \\\n",
    "            inner join  \\\n",
    "                buscas_em_textos.urls urls \\\n",
    "            on plc.idurl = urls.idurl \\\n",
    "            where \\\n",
    "                plc.idpalavra = %d\" %idpalavra\n",
    "    cursor.execute(query)\n",
    "    paginas = [url[0] for url in cursor]\n",
    "    print(\"Foram encontradas %d páginas:\" %len(paginas))\n",
    "    for url in paginas:\n",
    "        print(url)"
   ]
  },
  {
   "cell_type": "code",
   "execution_count": 32,
   "metadata": {
    "collapsed": false
   },
   "outputs": [
    {
     "name": "stdout",
     "output_type": "stream",
     "text": [
      "Foram encontradas 39 páginas:\n",
      "https://mk.wikipedia.org/wiki/%D0%9F%D1%80%D0%BE%D0%B3%D1%80%D0%B0%D0%BC%D1%81%D0%BA%D0%B8_%D1%98%D0%B0%D0%B7%D0%B8%D0%BA\n",
      "https://ja.wikipedia.org/wiki/%E3%83%97%E3%83%AD%E3%82%B0%E3%83%A9%E3%83%9F%E3%83%B3%E3%82%B0%E8%A8%80%E8%AA%9E\n",
      "https://pt.wikipedia.org/wiki/Rust_(linguagem_de_programa%C3%A7%C3%A3o)\n",
      "https://pt.wikipedia.org/wiki/JavaScript\n",
      "https://pt.wikipedia.org/w/index.php?title=Predefini%C3%A7%C3%A3o:Linguagens_de_programa%C3%A7%C3%A3o&action=edit\n",
      "https://pt.wikipedia.org/wiki/Programa%C3%A7%C3%A3o_de_computadores\n",
      "https://pt.wikipedia.org/wiki/Compara%C3%A7%C3%A3o_entre_linguagens_de_programa%C3%A7%C3%A3o\n",
      "https://pt.wikipedia.org/wiki/Lua_(linguagem_de_programa%C3%A7%C3%A3o)\n",
      "https://pt.wikipedia.org/wiki/Programa%C3%A7%C3%A3o_imperativa\n",
      "https://pt.wikipedia.org/wiki/C_(linguagem_de_programa%C3%A7%C3%A3o)\n",
      "https://uk.wikipedia.org/wiki/%D0%9C%D0%BE%D0%B2%D0%B0_%D0%BF%D1%80%D0%BE%D0%B3%D1%80%D0%B0%D0%BC%D1%83%D0%B2%D0%B0%D0%BD%D0%BD%D1%8F\n",
      "https://pt.wikipedia.org/wiki/Awk\n",
      "https://en.wikipedia.org/wiki/Programming_language\n",
      "https://pt.wikipedia.org/wiki/Dart_(linguagem_de_programa%C3%A7%C3%A3o)\n",
      "https://eo.wikipedia.org/wiki/Programlingvo\n",
      "https://hr.wikipedia.org/wiki/Programski_jezik\n",
      "https://fa.wikipedia.org/wiki/%D8%B2%D8%A8%D8%A7%D9%86_%D8%A8%D8%B1%D9%86%D8%A7%D9%85%D9%87%E2%80%8C%D9%86%D9%88%DB%8C%D8%B3%DB%8C\n",
      "https://pt.wikipedia.org/wiki/Elixir_(linguagem_de_programa%C3%A7%C3%A3o)\n",
      "https://pt.wikipedia.org/wiki/D_(linguagem_de_programa%C3%A7%C3%A3o)\n",
      "https://pt.wikipedia.org/w/index.php?title=Linguagem_de_programa%C3%A7%C3%A3o&printable=yes\n",
      "https://su.wikipedia.org/wiki/Basa_program\n",
      "https://pt.wikipedia.org/wiki/Embarcadero_Delphi\n",
      "https://pt.wikipedia.org/wiki/ALGOL\n",
      "https://pt.wikipedia.org/wiki/Flow-Matic\n",
      "https://pt.wikipedia.org/wiki/Predefini%C3%A7%C3%A3o:Linguagens_de_programa%C3%A7%C3%A3o\n",
      "https://pt.wikipedia.org/wiki/Modula-2\n",
      "https://pt.wikipedia.org/wiki/Perl\n",
      "https://ilo.wikipedia.org/wiki/Lengguahe_ti_panangprograma\n",
      "https://pt.wikipedia.org/wiki/Hist%C3%B3ria_das_linguagens_de_programa%C3%A7%C3%A3o\n",
      "https://pt.wikipedia.org/wiki/Linguagem_de_programa%C3%A7%C3%A3o\n",
      "https://pt.wikipedia.org/wiki/Linguagem_de_programa%C3%A7%C3%A3o_de_baixo_n%C3%ADvel\n",
      "https://pt.wikipedia.org/wiki/Orienta%C3%A7%C3%A3o_a_objetos\n",
      "https://pt.wikipedia.org/wiki/Pascal_(linguagem_de_programa%C3%A7%C3%A3o)\n",
      "https://lt.wikipedia.org/wiki/Programavimo_kalba\n",
      "https://lmo.wikipedia.org/wiki/Lenguagg_de_programmazion\n",
      "https://pt.wikipedia.org/wiki/Algol_60\n",
      "https://pt.wikipedia.org/wiki/Classe_(programa%C3%A7%C3%A3o)\n",
      "https://pt.wikipedia.org/wiki/Linguagem_de_programa%C3%A7%C3%A3o_esot%C3%A9rica\n",
      "https://pt.wikipedia.org/wiki/Programa%C3%A7%C3%A3o_procedural\n"
     ]
    }
   ],
   "source": [
    "buscaPalavra('python')"
   ]
  },
  {
   "cell_type": "code",
   "execution_count": null,
   "metadata": {
    "collapsed": true
   },
   "outputs": [],
   "source": []
  }
 ],
 "metadata": {
  "anaconda-cloud": {},
  "kernelspec": {
   "display_name": "Python 3",
   "language": "python",
   "name": "python3"
  },
  "language_info": {
   "codemirror_mode": {
    "name": "ipython",
    "version": 3
   },
   "file_extension": ".py",
   "mimetype": "text/x-python",
   "name": "python",
   "nbconvert_exporter": "python",
   "pygments_lexer": "ipython3",
   "version": "3.5.2"
  }
 },
 "nbformat": 4,
 "nbformat_minor": 2
}
